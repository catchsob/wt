{
 "cells": [
  {
   "cell_type": "code",
   "execution_count": 1,
   "metadata": {},
   "outputs": [],
   "source": [
    "import pymysql as mysql"
   ]
  },
  {
   "cell_type": "code",
   "execution_count": 18,
   "metadata": {},
   "outputs": [
    {
     "name": "stdout",
     "output_type": "stream",
     "text": [
      "3\n",
      "we got (('Enos', 113, datetime.datetime(2019, 12, 22, 11, 6, 41)), ('老三', 25, datetime.datetime(2019, 12, 21, 0, 27, 27)), ('小禾', 14, datetime.datetime(2019, 12, 19, 14, 29, 19)))\n"
     ]
    }
   ],
   "source": [
    "db = mysql.connect(\"192.168.100.5\",\"wt\",\"wt\",\"wt\" )\n",
    "visit = 'select display_name, m_count+j_count as s, (case when m_last > j_last then m_last else j_last end) as u_last from wt_user order by u_last desc limit %s, %s'\n",
    "amount = 'select display_name, m_count+j_count as s, j_last, m_last from wt_user order by s desc limit %s, %s'\n",
    "try:\n",
    "    with db.cursor() as cursor:\n",
    "        from time import strftime, localtime, time\n",
    "        today = strftime('%Y-%m-%d', localtime(time()))\n",
    "        data = cursor.execute(visit, (0,5))\n",
    "        print(data)\n",
    "        print(f'we got {cursor.fetchall()}')\n",
    "except Exception as e:\n",
    "    print(e)\n",
    "db.close()"
   ]
  },
  {
   "cell_type": "code",
   "execution_count": 5,
   "metadata": {},
   "outputs": [
    {
     "name": "stdout",
     "output_type": "stream",
     "text": [
      "we got 0\n"
     ]
    }
   ],
   "source": [
    "db = mysql.connect(\"192.168.100.5\",\"wt\",\"wt\",\"wt\" )\n",
    "sql = 'select count(user_id) from wt_user where j_last >= %s or m_last >= %s' # 今日使用用戶數\n",
    "try:\n",
    "    with db.cursor() as cursor:\n",
    "        from time import strftime, localtime, time\n",
    "        today = strftime('%Y-%m-%d', localtime(time()))\n",
    "        data = cursor.execute(sql, (today, today))\n",
    "        if (data == 1):\n",
    "            print(f'we got {cursor.fetchone()[0]}')\n",
    "        else:\n",
    "            print('0')\n",
    "except Exception as e:\n",
    "    print(e)\n",
    "db.close()"
   ]
  },
  {
   "cell_type": "code",
   "execution_count": null,
   "metadata": {},
   "outputs": [],
   "source": []
  },
  {
   "cell_type": "code",
   "execution_count": 2,
   "metadata": {},
   "outputs": [
    {
     "name": "stdout",
     "output_type": "stream",
     "text": [
      "(('U730eb72210b8400a91adc7fc70a7e435', datetime.datetime(2019, 9, 21, 13, 8, 50), '小禾', 'https://profile.line-scdn.net/0hr5FAxBdGLRp7OAcfcLBSTUd9I3cMFitSAwtjK107ditSDmlLT1g3Llk_eixQXG5FR1hgeFg_dS8D', 'classify_bauya', 0, 0, datetime.datetime(2019, 12, 17, 11, 34, 15), 14, datetime.datetime(2019, 12, 19, 14, 29, 19)), ('Uaf70874fca300d673cd9616f13e595b4', datetime.datetime(2019, 9, 10, 2, 8, 50), 'Enos', 'https://profile.line-scdn.net/0m0218b38672513e3da610cd25845fec168e36a3b9aaa2', 'classify_bauya', 2, 100, datetime.datetime(2019, 12, 19, 22, 12, 52), 409, datetime.datetime(2019, 12, 19, 22, 14, 48)))\n"
     ]
    }
   ],
   "source": [
    "db = mysql.connect(\"192.168.100.5\",\"wt\",\"wt\",\"wt\" )\n",
    "try:\n",
    "    with db.cursor() as cursor:\n",
    "        data = cursor.execute('select * from wt_user')\n",
    "        print(cursor.fetchall())\n",
    "except Exception as e:\n",
    "    print(user_id, e)\n",
    "db.close()"
   ]
  },
  {
   "cell_type": "code",
   "execution_count": 1,
   "metadata": {},
   "outputs": [
    {
     "name": "stdout",
     "output_type": "stream",
     "text": [
      "2019-12-20 00:00:00\n",
      "2019-12-20 08:00:00\n"
     ]
    }
   ],
   "source": [
    "from time import time, gmtime, strftime, localtime\n",
    "print(strftime('%Y-%m-%d %H:%M:%S', gmtime(time()//86400*86400)))\n",
    "print(strftime('%Y-%m-%d %H:%M:%S', localtime(time()//86400*86400)))"
   ]
  },
  {
   "cell_type": "code",
   "execution_count": 13,
   "metadata": {},
   "outputs": [
    {
     "name": "stdout",
     "output_type": "stream",
     "text": [
      "2019-12-20 08:00:00\n"
     ]
    }
   ],
   "source": [
    "print(strftime('%Y-%m-%d %H:%M:%S', localtime(((time())//86400)*86400)))"
   ]
  },
  {
   "cell_type": "code",
   "execution_count": 2,
   "metadata": {},
   "outputs": [
    {
     "data": {
      "text/plain": [
       "time.struct_time(tm_year=2019, tm_mon=12, tm_mday=20, tm_hour=16, tm_min=18, tm_sec=43, tm_wday=4, tm_yday=354, tm_isdst=0)"
      ]
     },
     "execution_count": 2,
     "metadata": {},
     "output_type": "execute_result"
    }
   ],
   "source": [
    "gmtime(time())"
   ]
  },
  {
   "cell_type": "code",
   "execution_count": 17,
   "metadata": {},
   "outputs": [
    {
     "name": "stdout",
     "output_type": "stream",
     "text": [
      "2019-12-21\n"
     ]
    }
   ],
   "source": [
    "print(strftime('%Y-%m-%d', localtime(time())))"
   ]
  },
  {
   "cell_type": "code",
   "execution_count": null,
   "metadata": {},
   "outputs": [],
   "source": []
  },
  {
   "cell_type": "code",
   "execution_count": null,
   "metadata": {},
   "outputs": [],
   "source": []
  },
  {
   "cell_type": "code",
   "execution_count": 123,
   "metadata": {},
   "outputs": [
    {
     "name": "stdout",
     "output_type": "stream",
     "text": [
      "0 ['Uaf70874fca300d673cd9616f13e595b4', 'Enos', 'https://profile.line-scdn.net/0m0218b38672513e3da610cd25845fec168e36a3b9aaa2', '20190910', 60]\n",
      "1 ['U28ba084e11c394a62d63ad2509e16dac', '趙崇睿', 'https://profile.line-scdn.net/0hsgtdWlBjLEhJHQdgqU9TH3VYIiU-MyoAMXs0KDgYdXphLmlOJ35iLz9Ien5gLWkbcHNme2QZJX5i', '20191001', 28]\n",
      "2 ['Ub1d7aa6e2f184b5a7ef87d6db4058bd4', '秉鴻', 'https://profile.line-scdn.net/0hXMjsi-AKB2JXCi30SKZ4NWtPCQ8gJAEqL2scVnoNUVMpbUdja2RLDXoLDlF8b0gxPm5PVHsDCgZ_', '20191002', 4]\n",
      "3 ['U3dc9eb876d7f748acdf242db3184fda6', '周妍🐰', 'https://profile.line-scdn.net/0h7D2aIYdNaGsPGEN6N4MXPDNdZgZ4Nm4jd3chWS8fMFIkLys7O310DX8RYVolLX88NC0vDH5IPl13', '20190921', 2]\n",
      "4 ['123', 'test', 'https://i.imgur.com/g6GRWOx.png', '20191211', 1]\n",
      "5 ['U23301782783452a451d99b54f4fc943b', '圍巾 /Jeѕѕιe', 'https://profile.line-scdn.net/0hvP20Ki3NKX8PSQf7P6RWKDMMJxJ4Zy83d3oxGX1Afhsrem0oYX8yGSxBIk8kcWt7Zi5mHCsbcBsn', '20191001', 1]\n",
      "6 ['U695d3da159844f47f77d786b052230f5', 'Su', 'https://profile.line-scdn.net/0hPBgVEs45D21aLyUsQjNwOmZqAQAtAQklIhpGCnp8A1gnTRhrYkpEWX8pVFVyGks_bhkSD3otAVxw', '20191001', 1]\n",
      "7 ['U830fcd562288dd7bc3d41688879d8622', 'Missy', 'https://profile.line-scdn.net/0h_iMVRGUxAEZwLytbLSt_EUxqDisHAQYOCBkddVMsWCZbT04YTRlNcgcmWHBZS04ZSUxGJFQpCyZV', '20191002', 1]\n",
      "8 ['U0ca0271e222660dc51c5b9cb66adea42', 'MeiHsuanLu', 'https://profile.line-scdn.net/0heMBizlmAOmJ_EBGGQUBFNUNVNA8IPjwqByR8BwhFMQJTdH4zQXElAV9ENAVaKHs9RXR9UF0RMAUF', '20191020', 0]\n",
      "9 ['U101e45ef696e5b741975ea35579bbe32', 'JZNHsu', 'https://profile.line-scdn.net/0hQ79KJbLvDhgEMiKZc1hxTzh3AHVzHAhQfF1GfnE2AH0tUBxLal1Cd3U2Vil8AR1IMQdDfSU7UX8p', '20191002', 0]\n",
      "10 ['U1369a2f1b707129a7c3041fc06483c9e', 'Indiana Jonson', 'https://profile.line-scdn.net/0hpYnjjzY_L3ZTEwNRIW1QIW9WIRskPSk-K3JoEyNEI0R_IG0oPSBgEncUeRZ9ImEjbndgGSZBdEN8', '20191002', 0]\n",
      "11 ['U21bfcd2cbf77a8accd5bdd57885c8534', 'Wen(彤蓁)', 'https://profile.line-scdn.net/0hZPs3Y9RXBX9OSi8rf2J6KHIPCxI5ZAM3Ni0ZSWxCWBpkLUEtICtKHTxPWEtgf0t8dSpIEDhLXB9j', '20191020', 0]\n",
      "12 ['U2319ad43a8824da33fe4c6a7cf3aa12b', '宗翰', 'https://profile.line-scdn.net/0hmUiOSvZiMnpUNhkWSVlNLWhzPBcjGDQyLAMtHXc2ZBgqUXQoPVB6HXI3bRp-Bn0rOlN1GHZkaR9_', '20191002', 0]\n",
      "13 ['U2b42f3c6e31c126abf7a39acb0d7b319', 'limit', 'https://profile.line-scdn.net/0hDBKMY15GG212NDRNvbpkOkpxFQABGh0lDlpWDQAzR1VcBVVsT1BSWABgRVxcA1QzQlRQXAY0TVkM', '20191020', 0]\n",
      "14 ['U2e3b0c3537f69757d9d1d0775bacf337', 'HFC', 'https://profile.line-scdn.net/0hLZs7VoSoE3VOTjhduxNsInILHRg5YBU9NnhbG28ZSRdifFcjdCBVFTtOT0Vkf1Yic3wJQD5HH0Y0', '20191002', 0]\n",
      "15 ['U2f6382f12128a4b5073fdd6ec2ea8ce5', '煒群（Reagan)', 'https://i.imgur.com/g6GRWOx.png', '20191021', 0]\n",
      "16 ['U361eca90fb6a40aa4ddcac5e0d4ee38e', 'Mindy', 'https://profile.line-scdn.net/0hrpL4aTIqLV9xTQeEPGJSCE0IIzIGYysXCX5nbldKcGdeKTkAGH4yO11OdWldeWhaTixlP1JJdToP', '20191002', 0]\n",
      "17 ['U3ebacc3bc3ef44b97a9f60a7ffa6374b', '方芊畬', 'https://profile.line-scdn.net/0htzVP44PjK1VrKQd4LgVUAldsJTgcBy0dE0ZnNRosJWMRSmoHAxw2NR0qcWERHD4FXklgNBogIGNH', '20191001', 0]\n",
      "18 ['U424a80f86017e967d43ff001c2c99b5b', '何松穎', 'https://profile.line-scdn.net/0hWF79P4B8CGkKQCbM34N3PjYFBgR9bg4hciZFCSYXA1lycUc7MHMUDC0QVlByJxw3N3ROCntJUl91', '20191007', 0]\n",
      "19 ['U44490df3f9bf8aab4b2cd7ad66237505', '蔣宗穎', 'https://i.imgur.com/g6GRWOx.png', '20191020', 0]\n",
      "20 ['U487233f2bf7ff5e5ce709e5bb734d453', '私は嫁が美琴です！', 'https://profile.line-scdn.net/0h9Oa9nSt2ZmBcQEmvRRUZN2AFaA0rbmAoJCJ6AHASagQkc3FmNXIuVHsSa1ByICMzaCUrAnEQP1N0', '20191002', 0]\n",
      "21 ['U50bca6e6433a3e88126e351aac9535d9', 'Anton', 'https://profile.line-scdn.net/0hZLF7gepyBWN7Tii8ywt6NEcLCw4MYAMrAyFJUF4ZWwMBKhAyRy9JDFpGWlFTd0IyR3wYDVdGUwYC', '20191020', 0]\n",
      "22 ['U56bbe6b79f0d0102eb1ccaccc0655485', 'boi', 'https://profile.line-scdn.net/0m01d2741a7251aea861eefb87a32bda8181158e560654', '20191001', 0]\n",
      "23 ['U58f39b8a2b1b7ac71bc7c04604ab010e', '仁寶', 'https://profile.line-scdn.net/0hMTJcwek_Ent3GjmQJTZtLEtfHBYANBQzDy9cTgcaGxtbKFx_QnhcSgcdTRtTK1AqHy5eG1odT00O', '20191002', 0]\n",
      "24 ['U5d9dcdf95488410e4e1b138798293cca', 'Jason(NBK)展鋒', 'https://profile.line-scdn.net/0hCrLb4u_8HF1xGzPzhFdjCk1eEjAGNRoVCX1VaQQSR2VZI10CSClbPANJQj8Mfg4DSi9QbFJMRT0J', '20191002', 0]\n",
      "25 ['U62701756ad62858c456dee480cd38564', 'Leno', 'https://profile.line-scdn.net/0m027ff3857251a61bbe54ee4d4070a8a02b6040f32e82', '20191001', 0]\n",
      "26 ['U6a6c2c2ace0309765ef013ebdb5dfcd6', 'Nina', 'https://i.imgur.com/g6GRWOx.png', '20191016', 0]\n",
      "27 ['U6f2151200a32e6eab2154aaba3fb4e5b', 'Mozz', 'https://profile.line-scdn.net/0hvX4MPQ9dKXcJNAQT5ztWIDVxJxp-Gi8_cVYyEHhjdBdwV2sgZQdnGS1gcUZxUTwiPVJjQS5gI0Nw', '20191020', 0]\n",
      "28 ['U6f922be90cdec5746a1abaa793c384a6', '雷雷', 'https://profile.line-scdn.net/0h8XwRnGYaZ3dKK0sbK9wYIHZuaRo9BWE_Mh9_ED0jMEAwSCkmJkh7GT1-akFnSSEpIxkgGDt5OhVu', '20191010', 0]\n",
      "29 ['U730eb72210b8400a91adc7fc70a7e435', '小禾', 'https://profile.line-scdn.net/0hr5FAxBdGLRp7OAcfcLBSTUd9I3cMFitSAwtjK107ditSDmlLT1g3Llk_eixQXG5FR1hgeFg_dS8D', '20190921', 0]\n",
      "30 ['U7662d76f191b6ae80fa960b48146de85', 'May', 'https://i.imgur.com/g6GRWOx.png', '20191027', 0]\n",
      "31 ['U7729ac97dc4c28ea35033bfc764ad3f0', '郭子維', 'https://profile.line-scdn.net/0hBnCmxCc4HUF-FDeMfZRiFkJREywJOhsJBnFSJ1pAFnhbIw4UFnYCdF1GFHNXJw8TEHFbJFhEEHlW', '20191002', 0]\n",
      "32 ['U83b3efaf5db875d8456282e68687ea05', 'Luc', 'https://profile.line-scdn.net/ch/v2/p/u6d67b7e06fe9e5b17e5b174406536736/exist', '20191020', 0]\n",
      "33 ['U83bda8cfb7b1e7314198a0e62a5c12ae', '賴韋伶', 'https://profile.line-scdn.net/0hzJDKmr1TJWV5Mg4JY-5aMkV3KwgOHCMtAQNsC1ViewJQBWU6TVU6UV0yfFNWBGM0EANvVglieFQA', '20190930', 0]\n",
      "34 ['U85f8b7ce0bf4ce9c3e10aec47f50743a', 'Yi-ting', 'https://profile.line-scdn.net/0hoYc7wusGMHZeThu6CzZPIWILPhspYDY-Jnt_E3gbbEF7KiJzayotR3sdbEMkKyMlYCh2FC4dPUV6', '20191020', 0]\n",
      "35 ['U8d5f48efa3672bfd67ec5a379f1d63f3', '🐲龍之陰🌸🌸', 'https://profile.line-scdn.net/0hghPEybIFOEdtPBOp9kZHEFF5NioaEj4PFV9xIRpuM34XCS1CAwlzIks1NnZHDigTUg53Jhw1NCNF', '20191020', 0]\n",
      "36 ['U8e25ab4af50edada9de60c23d844690e', 'Mei', 'https://profile.line-scdn.net/0hsgOJjd2vLEhyMwFGxfJTH052IiUFHSoAClRjegRmISxeB28ZSwE2JwJje3xaVDlOSlJgJ1QyIS9b', '20190928', 0]\n",
      "37 ['U919885032ec2c3ed8de25a26da879f83', 'WeiMin Chang 馬來貘', 'https://profile.line-scdn.net/0hFBMJlpc7GW1wMzKtW81mOkx2FwAHHR8lCABSC1QwFF4IVlY8T1RRXgIxFVxVAldvGFMEDVFnElkO', '20191020', 0]\n",
      "38 ['U966ea45a5ca1d739bdde536a76b84f38', '俞舒禔 ปลา', 'https://profile.line-scdn.net/0hDs69knq8G1wLQDYm_tVkCzcFFTF8bh0Uc3YHaSdJQjwheA4ONHRTPCkTTGwlJVpfZHUEb34UFW50', '20191013', 0]\n",
      "39 ['U994ee9fd507aaa9d530ab3bc17b50b87', 'Che', 'https://profile.line-scdn.net/0hhiI1-IjTN0Z0SBv1FO1IEUgNOSsDZjEODHx9IQJLaHFRL3QVHHp4cFBOayVceHcRSCd5dVZAYX9b', '20191020', 0]\n",
      "40 ['U9af9794acd4e11d444dbdbe50464cf56', '廷諺啊', 'https://profile.line-scdn.net/0hqW2arZaTLngPGAMNiaxRLzNdIBV4NigwdytnTH1NeE0qIWEnOitpFypMdx0nfGwvN30xHnkRdkkl', '20191007', 0]\n",
      "41 ['U9be7147a293bc7af5c5fcc0a219778dc', '許以琳Jane', 'https://profile.line-scdn.net/0hs0e6OA6xLB9YTwYy86xTSGQKInIvYSpXICkzfy5Ncysmem0bZyFhf3lIIXoiLTxIYCExeC9LcHp0', '20191020', 0]\n",
      "42 ['Uab4fbe9ba8b8cebd0b6688b38e1afed0', '鄭循焜', 'https://profile.line-scdn.net/0h1SyCGN_ybnxEOkPKkUYRK3h_YBEzFGg0PFsgGTMzOEk5A355e1R2GmJoNBk6WSp9eVkiTmY9OBtp', '20191001', 0]\n",
      "43 ['Uae427f60a858dc430202fcd7455a19ff', '白檸瑤(Krissy)', 'https://profile.line-scdn.net/0hZK19ckgyBWQMQCmFeC16MzAFCwl7bgMsdHQYBy9EWgQjdkZiYC8aAC1ED1V2cxUwYHJPBi9BDlcm', '20191020', 0]\n",
      "44 ['Ub42a8077b21738c304fa840f7e765bb0', 'Hsuchch', 'https://profile.line-scdn.net/0m008f43a87251b2d0585f28110d1dc2b570ba1352662f', '20191020', 0]\n",
      "45 ['Ub676abd184c903d1d8c93dd9f177cd85', '熊峻', 'https://profile.line-scdn.net/0h3HrfEsOKbGdPH0HHrXsTMHNaYgo4MWovN3hxUW8WO1VneyxhIXEjVTocOwM3LXg1dXh0VmgbZV4x', '20191002', 0]\n",
      "46 ['Ub78de93193ec0578ba05a930455e6395', 'Wilson Chen', 'https://profile.line-scdn.net/0hEjj_TAmTGkVXJjYLudxlEmtjFCggCBwNLxJVICF1QiV-RQoTbRcFcHsiTCJ-QlpEOBBRJyEvFnEp', '20191001', 0]\n",
      "47 ['Uc81c82118bb01262592c7d29abedc2f4', 'Jeremy（劉育杰）', 'https://profile.line-scdn.net/0hIoUyy9TLFkBoADyX9DJpF1RFGC0fLhAIEGAMIU0JGHlCMlUUBjFfcRkJSXgSMVERVDQKJUlQG3JG', '20191020', 0]\n",
      "48 ['Uc94aa90e807722216265bcecc8c37293', 'Scott Lai', 'https://profile.line-scdn.net/0m03da5e467251f720cba4812e01a131b384c375b6032c', '20191002', 0]\n",
      "49 ['Ud9d7be916b127b2129d75a765df708b9', 'Chuang', 'https://profile.line-scdn.net/0h3eWPvL4RbEpqKUFdJHETHVZsYicdB2oCEkwnLU8uNnIQEHkYBEckLR0oZy8VHCxIAktzK0Z9M31A', '20191020', 0]\n",
      "50 ['Udb4965ea4db175e3d83fc8d10121916d', '王軒凱(叡棠.世良.Thomas)', 'https://profile.line-scdn.net/0m013b0b1672513e33f269b7933a027588f1147d27dff0', '20191020', 0]\n",
      "51 ['Udf96ea656da0a66f03ca9a8e345d2589', 'Sophie', 'https://profile.line-scdn.net/0h9WmEemc4ZnhQPEl_uUYZL2x5aBUnEmAwKForTnBvbxh4CnJ8blh-FyA8MEp_DXV-awggGSVrMBoo', '20191020', 0]\n",
      "52 ['Ue941e9bae7a703908e9db4c872117647', 'rebecca', 'https://profile.line-scdn.net/0hOidNi4uVEEZZNztV4mVvEWVyHisuGRYOIVgLKXs0GXZyAFcVZ1EKIXpkSyVxVVBHYFRdcy42RiF2', '20191020', 0]\n",
      "53 ['Uece0581a38c224e83de9f178c8b484f6', 'Johnson', 'https://profile.line-scdn.net/0m0e5a1c5372518964ad9dd2313470a097d04cfba7aa6f', '20191020', 0]\n",
      "54 ['Uee1ffe06069ccb3f4880f67e6a4e3eda', 'Jen 維真', 'https://profile.line-scdn.net/0hriCV5zIdLUZ-LwZKNc1SEUJqIysJASsOBhxkdFp7cyVXHmoZREA2dVh8JH5UH2IQRkhhJVx8c3BV', '20191002', 0]\n",
      "55 ['Uf1ae1fedf001e0fa7fcd9114194d4816', '簡辰祐', 'https://profile.line-scdn.net/0hcm5ZbtGUPEIIIxFPQ8BDFTRmMi9_DToKcEF1dC0gYSctQ3tBMxZydyolY3sgGywVNUJ2IypwZyUg', '20191020', 0]\n",
      "56 ['Ufad5f678c0bac97388b271ee04943dfa', '奕安', 'https://profile.line-scdn.net/0m0176b51f725153f2f7c1c4cea0bf900359ca507b4589', '20191013', 0]\n"
     ]
    }
   ],
   "source": [
    "db = mysql.connect(\"192.168.100.5\",\"wt\",\"wt\",\"wt\" )\n",
    "sql_last = 'select user_id, display_name, picture_url, dt, j_count from wt_user order by dt desc'\n",
    "sql_first = 'select user_id, display_name, picture_url, dt, j_count from wt_user order by dt asc'\n",
    "sql_most = 'select user_id, display_name, picture_url, dt, j_count from wt_user order by j_count desc'\n",
    "\n",
    "#sql_last = 'select user_id, display_name, picture_url, dt, j_count from wt_user order by dt desc rownum <= 20 and rowrum > 10'\n",
    "\n",
    "try:\n",
    "    with db.cursor() as cursor:\n",
    "        data = cursor.execute(sql_most)\n",
    "        kk = cursor.fetchall()\n",
    "        LL = []\n",
    "        for k in kk:\n",
    "            gg = list(k)\n",
    "            gg[3] = f'{gg[3].year:04d}{gg[3].month:02d}{gg[3].day:02d}'\n",
    "            LL.append(gg)\n",
    "        #str = f'{k[3].year:04d}{k[3].month:02d}{k[3].day:02d}'\n",
    "        for i, ll in enumerate(LL):\n",
    "            print(i, ll)\n",
    "except Exception as e:\n",
    "    print(user_id, e) "
   ]
  },
  {
   "cell_type": "code",
   "execution_count": 132,
   "metadata": {},
   "outputs": [
    {
     "name": "stdout",
     "output_type": "stream",
     "text": [
      "select user_id, display_name, picture_url, dt, j_count from wt_user order by j_count desc limit %s, %s\n",
      "['Uaf70874fca300d673cd9616f13e595b4', 'Enos', 'https://profile.line-scdn.net/0m0218b38672513e3da610cd25845fec168e36a3b9aaa2', '20190910', 60]\n",
      "['U28ba084e11c394a62d63ad2509e16dac', '趙崇睿', 'https://profile.line-scdn.net/0hsgtdWlBjLEhJHQdgqU9TH3VYIiU-MyoAMXs0KDgYdXphLmlOJ35iLz9Ien5gLWkbcHNme2QZJX5i', '20191001', 28]\n",
      "['Ub1d7aa6e2f184b5a7ef87d6db4058bd4', '秉鴻', 'https://profile.line-scdn.net/0hXMjsi-AKB2JXCi30SKZ4NWtPCQ8gJAEqL2scVnoNUVMpbUdja2RLDXoLDlF8b0gxPm5PVHsDCgZ_', '20191002', 4]\n",
      "['U3dc9eb876d7f748acdf242db3184fda6', '周妍🐰', 'https://profile.line-scdn.net/0h7D2aIYdNaGsPGEN6N4MXPDNdZgZ4Nm4jd3chWS8fMFIkLys7O310DX8RYVolLX88NC0vDH5IPl13', '20190921', 2]\n",
      "['123', 'test', 'https://i.imgur.com/g6GRWOx.png', '20191211', 1]\n",
      "['U23301782783452a451d99b54f4fc943b', '圍巾 /Jeѕѕιe', 'https://profile.line-scdn.net/0hvP20Ki3NKX8PSQf7P6RWKDMMJxJ4Zy83d3oxGX1Afhsrem0oYX8yGSxBIk8kcWt7Zi5mHCsbcBsn', '20191001', 1]\n",
      "['U695d3da159844f47f77d786b052230f5', 'Su', 'https://profile.line-scdn.net/0hPBgVEs45D21aLyUsQjNwOmZqAQAtAQklIhpGCnp8A1gnTRhrYkpEWX8pVFVyGks_bhkSD3otAVxw', '20191001', 1]\n",
      "['U830fcd562288dd7bc3d41688879d8622', 'Missy', 'https://profile.line-scdn.net/0h_iMVRGUxAEZwLytbLSt_EUxqDisHAQYOCBkddVMsWCZbT04YTRlNcgcmWHBZS04ZSUxGJFQpCyZV', '20191002', 1]\n",
      "['U0ca0271e222660dc51c5b9cb66adea42', 'MeiHsuanLu', 'https://profile.line-scdn.net/0heMBizlmAOmJ_EBGGQUBFNUNVNA8IPjwqByR8BwhFMQJTdH4zQXElAV9ENAVaKHs9RXR9UF0RMAUF', '20191020', 0]\n",
      "['U101e45ef696e5b741975ea35579bbe32', 'JZNHsu', 'https://profile.line-scdn.net/0hQ79KJbLvDhgEMiKZc1hxTzh3AHVzHAhQfF1GfnE2AH0tUBxLal1Cd3U2Vil8AR1IMQdDfSU7UX8p', '20191002', 0]\n"
     ]
    }
   ],
   "source": [
    "db = mysql.connect(\"192.168.100.5\",\"wt\",\"wt\",\"wt\" )\n",
    "sql_last = 'select user_id, display_name, picture_url, dt, j_count from wt_user order by dt desc limit 10'\n",
    "sql_first = 'select user_id, display_name, picture_url, dt, j_count from wt_user order by dt asc'\n",
    "sql_most = 'select user_id, display_name, picture_url, dt, j_count from wt_user order by j_count desc'\n",
    "\n",
    "sql_last = 'select user_id, display_name, picture_url, dt, j_count from wt_user order by j_count desc limit %s, %s'\n",
    "\n",
    "start = 0\n",
    "amount = 10\n",
    "\n",
    "try:\n",
    "    with db.cursor() as cursor:\n",
    "        print(sql_last)\n",
    "        data = cursor.execute(sql_last, (start, amount))\n",
    "        kk = cursor.fetchall()\n",
    "        LL = []\n",
    "        for k in kk:\n",
    "            gg = list(k)\n",
    "            gg[3] = f'{gg[3].year:04d}{gg[3].month:02d}{gg[3].day:02d}'\n",
    "            LL.append(gg)\n",
    "        #str = f'{k[3].year:04d}{k[3].month:02d}{k[3].day:02d}'\n",
    "        for ll in LL:\n",
    "            print(ll)\n",
    "except Exception as e:\n",
    "    print(user_id, e) "
   ]
  },
  {
   "cell_type": "code",
   "execution_count": 78,
   "metadata": {},
   "outputs": [
    {
     "name": "stdout",
     "output_type": "stream",
     "text": [
      "57\n",
      "0\n",
      "98\n"
     ]
    }
   ],
   "source": [
    "criterion = 2\n",
    "db = mysql.connect(\"192.168.100.5\",\"wt\",\"wt\",\"wt\" )\n",
    "sql = 'select count(user_id) from wt_user'\n",
    "sql2 = 'select count(user_id) from wt_user where dt >= %s'\n",
    "sql3 = 'select sum(j_count) from wt_user'\n",
    "try:\n",
    "    with db.cursor() as cursor:\n",
    "        cursor.execute(sql)\n",
    "        k = cursor.fetchone()[0]\n",
    "        print(k)\n",
    "        from time import strftime, gmtime, time\n",
    "        cursor.execute(sql2, (strftime('%Y-%m-%d %H:%M:%S', gmtime(time()//86400*86400))))\n",
    "        #cursor.execute(sql2, (time.strftime('%Y-%m-%d %H:%M:%S', time.gmtime(1571022352//86400*86400))))\n",
    "        k = cursor.fetchone()[0]\n",
    "        print(k)\n",
    "        cursor.execute(sql3)\n",
    "        k = cursor.fetchone()[0]\n",
    "        print(k)\n",
    "except Exception as e:\n",
    "    print(user_id, e) \n",
    "db.close()"
   ]
  },
  {
   "cell_type": "code",
   "execution_count": 45,
   "metadata": {},
   "outputs": [
    {
     "data": {
      "text/plain": [
       "'2019-12-13 15:33:59'"
      ]
     },
     "execution_count": 45,
     "metadata": {},
     "output_type": "execute_result"
    }
   ],
   "source": [
    "import time\n",
    "time.strftime('%Y-%m-%d %H:%M:%S', time.localtime(time.time()))"
   ]
  },
  {
   "cell_type": "code",
   "execution_count": 71,
   "metadata": {},
   "outputs": [
    {
     "data": {
      "text/plain": [
       "'2019-12-10 00:00:00'"
      ]
     },
     "execution_count": 71,
     "metadata": {},
     "output_type": "execute_result"
    }
   ],
   "source": [
    "import time\n",
    "time.strftime('%Y-%m-%d %H:%M:%S', time.gmtime(1576022352//86400*86400))"
   ]
  },
  {
   "cell_type": "code",
   "execution_count": 41,
   "metadata": {},
   "outputs": [
    {
     "data": {
      "text/plain": [
       "1576222352.6044378"
      ]
     },
     "execution_count": 41,
     "metadata": {},
     "output_type": "execute_result"
    }
   ],
   "source": [
    "from time import time\n",
    "time()"
   ]
  },
  {
   "cell_type": "code",
   "execution_count": 62,
   "metadata": {},
   "outputs": [
    {
     "data": {
      "text/plain": [
       "120"
      ]
     },
     "execution_count": 62,
     "metadata": {},
     "output_type": "execute_result"
    }
   ],
   "source": [
    "125//10*10"
   ]
  },
  {
   "cell_type": "code",
   "execution_count": 29,
   "metadata": {},
   "outputs": [
    {
     "name": "stdout",
     "output_type": "stream",
     "text": [
      "False\n"
     ]
    }
   ],
   "source": [
    "criterion = 2\n",
    "db = mysql.connect(\"192.168.100.5\",\"wt\",\"wt\",\"wt\" )\n",
    "sql = 'select admin from wt_user where user_id = %s and admin >= %s'\n",
    "user_id = 'U3dc9eb876d7f748acdf242db3184fda6'\n",
    "try:\n",
    "    with db.cursor() as cursor:\n",
    "        data = cursor.execute(sql, (user_id, criterion))\n",
    "        print(data is 1)\n",
    "except Exception as e:\n",
    "    print(user_id, e) \n",
    "db.close()"
   ]
  },
  {
   "cell_type": "code",
   "execution_count": 17,
   "metadata": {},
   "outputs": [
    {
     "name": "stdout",
     "output_type": "stream",
     "text": [
      "1\n"
     ]
    }
   ],
   "source": [
    "# check user\n",
    "db = mysql.connect(\"192.168.100.5\",\"wt\",\"wt\",\"wt\" )\n",
    "sql = 'select * from wt_user where user_id = %s'\n",
    "user_id = 'U0ca0271e222660dc51c5b9cb66adea42'\n",
    "try:\n",
    "    with db.cursor() as cursor:\n",
    "        data = cursor.execute(sql, (user_id))\n",
    "        print(data)\n",
    "except Exception as e:\n",
    "    print(user_id, e) \n",
    "db.close()"
   ]
  },
  {
   "cell_type": "code",
   "execution_count": 61,
   "metadata": {},
   "outputs": [
    {
     "name": "stdout",
     "output_type": "stream",
     "text": [
      "1\n"
     ]
    }
   ],
   "source": [
    "# add user\n",
    "picture_url = None\n",
    "db = mysql.connect(\"192.168.100.5\",\"wt\",\"wt\",\"wt\")\n",
    "user_id = '123'\n",
    "display_name = 'test'\n",
    "if picture_url is None:\n",
    "    picture_url = 'https://i.imgur.com/g6GRWOx.png'\n",
    "sql = 'insert into wt_user (user_id, display_name, picture_url, admin) values (%s, %s, %s, %s)'\n",
    "try:\n",
    "    with db.cursor() as cursor:\n",
    "        data = cursor.execute(sql, (user_id, display_name, picture_url, 1))\n",
    "        print(data)\n",
    "except Exception as e:\n",
    "    print(user_id, e)\n",
    "\n",
    "db.commit();\n",
    "db.close()"
   ]
  },
  {
   "cell_type": "code",
   "execution_count": 63,
   "metadata": {},
   "outputs": [
    {
     "name": "stdout",
     "output_type": "stream",
     "text": [
      "0\n"
     ]
    }
   ],
   "source": [
    "# mark model\n",
    "db = mysql.connect(\"192.168.100.5\",\"wt\",\"wt\",\"wt\")\n",
    "user_id = '123'\n",
    "model = 'kiss'\n",
    "sql = 'update wt_user set model = %s where user_id = %s'\n",
    "try:\n",
    "    with db.cursor() as cursor:\n",
    "        data = cursor.execute(sql, (model, user_id))\n",
    "        print(data)\n",
    "except Exception as e:\n",
    "    print(user_id, e)\n",
    "db.commit()\n",
    "db.close()"
   ]
  },
  {
   "cell_type": "code",
   "execution_count": 72,
   "metadata": {},
   "outputs": [
    {
     "name": "stdout",
     "output_type": "stream",
     "text": [
      "kiss\n"
     ]
    }
   ],
   "source": [
    "# get model\n",
    "db = mysql.connect(\"192.168.100.5\",\"wt\",\"wt\",\"wt\")\n",
    "user_id = '123'\n",
    "sql = 'select model from wt_user where user_id = %s'\n",
    "try:\n",
    "    with db.cursor() as cursor:\n",
    "        data = cursor.execute(sql, (user_id))\n",
    "        if data is not 1:\n",
    "            print(data)\n",
    "        else:\n",
    "            print(cursor.fetchone()[0])\n",
    "except Exception as e:\n",
    "    print(user_id, e)\n",
    "db.close()"
   ]
  },
  {
   "cell_type": "code",
   "execution_count": 78,
   "metadata": {},
   "outputs": [
    {
     "name": "stdout",
     "output_type": "stream",
     "text": [
      "0\n"
     ]
    }
   ],
   "source": [
    "# count judge\n",
    "db = mysql.connect(\"192.168.100.5\",\"wt\",\"wt\",\"wt\")\n",
    "user_id = '122'\n",
    "sql = 'update wt_user set j_count=j_count+1 where user_id = %s'\n",
    "try:\n",
    "    with db.cursor() as cursor:\n",
    "        data = cursor.execute(sql, (user_id))\n",
    "        print(data)\n",
    "except Exception as e:\n",
    "    print(user_id, e)\n",
    "db.commit()\n",
    "db.close()"
   ]
  },
  {
   "cell_type": "code",
   "execution_count": null,
   "metadata": {},
   "outputs": [],
   "source": []
  },
  {
   "cell_type": "code",
   "execution_count": 4,
   "metadata": {},
   "outputs": [],
   "source": [
    "from urllib.parse import parse_qs"
   ]
  },
  {
   "cell_type": "code",
   "execution_count": 5,
   "metadata": {},
   "outputs": [],
   "source": [
    "ai_dict = {'classify_tree': '影像辨識-樹', 'classify_leaf': '影像辨識-葉',\n",
    "               'objdetect_tree': '物件偵測-樹', 'objdetect_leaf': '物件偵測-葉'}"
   ]
  },
  {
   "cell_type": "code",
   "execution_count": 6,
   "metadata": {},
   "outputs": [],
   "source": [
    "qs = 'model=classify_leaf&check=False'"
   ]
  },
  {
   "cell_type": "code",
   "execution_count": 7,
   "metadata": {},
   "outputs": [],
   "source": [
    "q = parse_qs(qs)"
   ]
  },
  {
   "cell_type": "code",
   "execution_count": 8,
   "metadata": {},
   "outputs": [
    {
     "data": {
      "text/plain": [
       "{'model': ['classify_leaf'], 'check': ['False']}"
      ]
     },
     "execution_count": 8,
     "metadata": {},
     "output_type": "execute_result"
    }
   ],
   "source": [
    "q"
   ]
  },
  {
   "cell_type": "code",
   "execution_count": 11,
   "metadata": {},
   "outputs": [
    {
     "data": {
      "text/plain": [
       "'classify_leaf'"
      ]
     },
     "execution_count": 11,
     "metadata": {},
     "output_type": "execute_result"
    }
   ],
   "source": [
    "q.get('model')[0]"
   ]
  },
  {
   "cell_type": "code",
   "execution_count": 28,
   "metadata": {},
   "outputs": [
    {
     "name": "stdout",
     "output_type": "stream",
     "text": [
      "check\n"
     ]
    }
   ],
   "source": [
    "if 'model' in q and q.get('model')[0] in ai_dict:\n",
    "    print('check')"
   ]
  },
  {
   "cell_type": "code",
   "execution_count": 25,
   "metadata": {},
   "outputs": [
    {
     "data": {
      "text/plain": [
       "False"
      ]
     },
     "execution_count": 25,
     "metadata": {},
     "output_type": "execute_result"
    }
   ],
   "source": [
    "'xxx' in ai_dict"
   ]
  },
  {
   "cell_type": "code",
   "execution_count": 37,
   "metadata": {},
   "outputs": [],
   "source": [
    "from time import time"
   ]
  },
  {
   "cell_type": "code",
   "execution_count": 39,
   "metadata": {},
   "outputs": [
    {
     "data": {
      "text/plain": [
       "1576043315.8356526"
      ]
     },
     "execution_count": 39,
     "metadata": {},
     "output_type": "execute_result"
    }
   ],
   "source": [
    "time()"
   ]
  },
  {
   "cell_type": "code",
   "execution_count": 1,
   "metadata": {},
   "outputs": [],
   "source": [
    "a = 10"
   ]
  },
  {
   "cell_type": "code",
   "execution_count": 2,
   "metadata": {},
   "outputs": [
    {
     "data": {
      "text/plain": [
       "bool"
      ]
     },
     "execution_count": 2,
     "metadata": {},
     "output_type": "execute_result"
    }
   ],
   "source": [
    "type (a > 1)"
   ]
  },
  {
   "cell_type": "code",
   "execution_count": 3,
   "metadata": {},
   "outputs": [
    {
     "data": {
      "text/plain": [
       "True"
      ]
     },
     "execution_count": 3,
     "metadata": {},
     "output_type": "execute_result"
    }
   ],
   "source": [
    "a > 1"
   ]
  },
  {
   "cell_type": "code",
   "execution_count": 148,
   "metadata": {},
   "outputs": [
    {
     "data": {
      "text/plain": [
       "[]"
      ]
     },
     "execution_count": 148,
     "metadata": {},
     "output_type": "execute_result"
    }
   ],
   "source": [
    "a = []\n",
    "a"
   ]
  },
  {
   "cell_type": "code",
   "execution_count": 149,
   "metadata": {},
   "outputs": [],
   "source": [
    "a.insert(0, 6)"
   ]
  },
  {
   "cell_type": "code",
   "execution_count": 150,
   "metadata": {},
   "outputs": [
    {
     "data": {
      "text/plain": [
       "[6]"
      ]
     },
     "execution_count": 150,
     "metadata": {},
     "output_type": "execute_result"
    }
   ],
   "source": [
    "a"
   ]
  },
  {
   "cell_type": "code",
   "execution_count": 151,
   "metadata": {},
   "outputs": [
    {
     "data": {
      "text/plain": [
       "[5, 10, 15]"
      ]
     },
     "execution_count": 151,
     "metadata": {},
     "output_type": "execute_result"
    }
   ],
   "source": [
    "a = 5\n",
    "b = 10\n",
    "c = 15\n",
    "xxx = [a, b, c]\n",
    "xxx"
   ]
  },
  {
   "cell_type": "code",
   "execution_count": 152,
   "metadata": {},
   "outputs": [],
   "source": [
    "xxx.remove(b)"
   ]
  },
  {
   "cell_type": "code",
   "execution_count": 153,
   "metadata": {},
   "outputs": [
    {
     "data": {
      "text/plain": [
       "[5, 15]"
      ]
     },
     "execution_count": 153,
     "metadata": {},
     "output_type": "execute_result"
    }
   ],
   "source": [
    "xxx"
   ]
  },
  {
   "cell_type": "code",
   "execution_count": 156,
   "metadata": {},
   "outputs": [
    {
     "data": {
      "text/plain": [
       "([1, 2, 3], [4, 9, 7])"
      ]
     },
     "execution_count": 156,
     "metadata": {},
     "output_type": "execute_result"
    }
   ],
   "source": [
    "a = [1, 2, 3]\n",
    "b = [4, 9, 7]\n",
    "a, b"
   ]
  },
  {
   "cell_type": "code",
   "execution_count": 157,
   "metadata": {},
   "outputs": [
    {
     "data": {
      "text/plain": [
       "[1, 2, 3, 4, 9, 7]"
      ]
     },
     "execution_count": 157,
     "metadata": {},
     "output_type": "execute_result"
    }
   ],
   "source": [
    "a += b\n",
    "a"
   ]
  },
  {
   "cell_type": "code",
   "execution_count": 163,
   "metadata": {},
   "outputs": [],
   "source": [
    "a_dict = {'last':'good', 'first':'job', 'max':'bad'}\n",
    "mode = 'last'"
   ]
  },
  {
   "cell_type": "code",
   "execution_count": 167,
   "metadata": {},
   "outputs": [
    {
     "ename": "SyntaxError",
     "evalue": "invalid syntax (<ipython-input-167-3617968d625b>, line 1)",
     "output_type": "error",
     "traceback": [
      "\u001b[1;36m  File \u001b[1;32m\"<ipython-input-167-3617968d625b>\"\u001b[1;36m, line \u001b[1;32m1\u001b[0m\n\u001b[1;33m    [a_dict[a] if mode != a for a in a_dict]\u001b[0m\n\u001b[1;37m                              ^\u001b[0m\n\u001b[1;31mSyntaxError\u001b[0m\u001b[1;31m:\u001b[0m invalid syntax\n"
     ]
    }
   ],
   "source": [
    "[a_dict[a] if mode != a for a in a_dict]"
   ]
  },
  {
   "cell_type": "code",
   "execution_count": 1,
   "metadata": {},
   "outputs": [],
   "source": [
    "a = ['check1', 'check2']"
   ]
  },
  {
   "cell_type": "code",
   "execution_count": 2,
   "metadata": {},
   "outputs": [
    {
     "data": {
      "text/plain": [
       "['check1', 'check2']"
      ]
     },
     "execution_count": 2,
     "metadata": {},
     "output_type": "execute_result"
    }
   ],
   "source": [
    "a"
   ]
  },
  {
   "cell_type": "code",
   "execution_count": 11,
   "metadata": {},
   "outputs": [
    {
     "ename": "AttributeError",
     "evalue": "'list' object has no attribute 'list'",
     "output_type": "error",
     "traceback": [
      "\u001b[1;31m---------------------------------------------------------------------------\u001b[0m",
      "\u001b[1;31mAttributeError\u001b[0m                            Traceback (most recent call last)",
      "\u001b[1;32m<ipython-input-11-6b72df307ca9>\u001b[0m in \u001b[0;36m<module>\u001b[1;34m\u001b[0m\n\u001b[1;32m----> 1\u001b[1;33m \u001b[0ma\u001b[0m\u001b[1;33m.\u001b[0m\u001b[0mlist\u001b[0m\u001b[1;33m(\u001b[0m\u001b[1;33m)\u001b[0m\u001b[1;33m\u001b[0m\u001b[1;33m\u001b[0m\u001b[0m\n\u001b[0m",
      "\u001b[1;31mAttributeError\u001b[0m: 'list' object has no attribute 'list'"
     ]
    }
   ],
   "source": [
    "a.list()"
   ]
  },
  {
   "cell_type": "code",
   "execution_count": 16,
   "metadata": {},
   "outputs": [
    {
     "data": {
      "text/plain": [
       "['check1', 'check2']"
      ]
     },
     "execution_count": 16,
     "metadata": {},
     "output_type": "execute_result"
    }
   ],
   "source": [
    "a"
   ]
  },
  {
   "cell_type": "code",
   "execution_count": 21,
   "metadata": {},
   "outputs": [
    {
     "data": {
      "text/plain": [
       "'check1,check2'"
      ]
     },
     "execution_count": 21,
     "metadata": {},
     "output_type": "execute_result"
    }
   ],
   "source": [
    "','.join(a)"
   ]
  },
  {
   "cell_type": "code",
   "execution_count": 28,
   "metadata": {},
   "outputs": [
    {
     "data": {
      "text/plain": [
       "'m_count=m_count+1,j_count=j_count+1'"
      ]
     },
     "execution_count": 28,
     "metadata": {},
     "output_type": "execute_result"
    }
   ],
   "source": [
    "flag = 'mj'\n",
    "a = []\n",
    "for kw in 'mj':\n",
    "    if kw in flag:\n",
    "        a.append(f'{kw}_count={kw}_count+1')\n",
    "a_str = ','.join(a)\n",
    "a_str"
   ]
  },
  {
   "cell_type": "code",
   "execution_count": 34,
   "metadata": {},
   "outputs": [
    {
     "data": {
      "text/plain": [
       "'m_count=m_count+1,j_count=j_count+1'"
      ]
     },
     "execution_count": 34,
     "metadata": {},
     "output_type": "execute_result"
    }
   ],
   "source": [
    "flag = 'mj'\n",
    "a = [f'{kw}_count={kw}_count+1' for kw in 'mj' if kw in flag]\n",
    "a_str = ','.join(a)\n",
    "a_str"
   ]
  },
  {
   "cell_type": "code",
   "execution_count": 38,
   "metadata": {},
   "outputs": [
    {
     "data": {
      "text/plain": [
       "'update wt_user set m_count=m_count+1,j_count=j_count+1 where user_id = %s'"
      ]
     },
     "execution_count": 38,
     "metadata": {},
     "output_type": "execute_result"
    }
   ],
   "source": [
    "flag = 'mj'\n",
    "a = [f'{kw}_count={kw}_count+1' for kw in 'mj' if kw in flag]\n",
    "sql = f'update wt_user set {\",\".join(a)} where user_id = %s'\n",
    "sql"
   ]
  },
  {
   "cell_type": "code",
   "execution_count": 21,
   "metadata": {},
   "outputs": [
    {
     "name": "stdout",
     "output_type": "stream",
     "text": [
      "1\n"
     ]
    }
   ],
   "source": [
    "import pymysql as mysql\n",
    "import time\n",
    "db = mysql.connect(\"192.168.100.5\",\"wt\",\"wt\",\"wt\", autocommit=True)\n",
    "sql = 'update wt_user set j_count=j_count+1, j_last=%s where user_id = %s'\n",
    "try:\n",
    "    with db.cursor() as cursor:\n",
    "        data = cursor.execute(sql, (time.strftime('%Y-%m-%d %H:%M:%S', time.localtime(time.time())), '123'))\n",
    "        print(data)\n",
    "except Exception as e:\n",
    "    print(user_id, e)\n",
    "    \n",
    "db.close()"
   ]
  },
  {
   "cell_type": "code",
   "execution_count": 7,
   "metadata": {},
   "outputs": [
    {
     "data": {
      "text/plain": [
       "1576583839.996778"
      ]
     },
     "execution_count": 7,
     "metadata": {},
     "output_type": "execute_result"
    }
   ],
   "source": [
    "time.time()"
   ]
  },
  {
   "cell_type": "code",
   "execution_count": 7,
   "metadata": {},
   "outputs": [
    {
     "name": "stdout",
     "output_type": "stream",
     "text": [
      "2019-12-17 22:34:10\n",
      "update wt_user set j_count=j_count+1, j_last=now() where user_id=%s\n",
      "1\n"
     ]
    }
   ],
   "source": [
    "import pymysql as mysql\n",
    "import time\n",
    "db = mysql.connect(\"192.168.100.5\",\"wt\",\"wt\",\"wt\", autocommit=True)\n",
    "kw='j'\n",
    "print(time.strftime('%Y-%m-%d %H:%M:%S', time.localtime(time.time())))\n",
    "sql = f'update wt_user set {kw}_count={kw}_count+1, {kw}_last=now() where user_id=%s'\n",
    "print(sql)\n",
    "try:\n",
    "    with db.cursor() as cursor:\n",
    "        data = cursor.execute(sql, '123')\n",
    "        print(data)\n",
    "except Exception as e:\n",
    "    print(user_id, e)\n",
    "    \n",
    "db.close()"
   ]
  },
  {
   "cell_type": "code",
   "execution_count": 75,
   "metadata": {},
   "outputs": [
    {
     "data": {
      "text/plain": [
       "(40, 10, 40)"
      ]
     },
     "execution_count": 75,
     "metadata": {},
     "output_type": "execute_result"
    }
   ],
   "source": [
    "amt = 50\n",
    "AMOUNT = 10\n",
    "start = 0\n",
    "\n",
    "\n",
    "start = AMOUNT*((amt//AMOUNT) - (amt%AMOUNT==0))\n",
    "#start = start - AMOUNT if start == amt else start\n",
    "step = amt - start\n",
    "start, step, AMOUNT*((amt-1)//AMOUNT)"
   ]
  },
  {
   "cell_type": "code",
   "execution_count": 54,
   "metadata": {},
   "outputs": [
    {
     "data": {
      "text/plain": [
       "True"
      ]
     },
     "execution_count": 54,
     "metadata": {},
     "output_type": "execute_result"
    }
   ],
   "source": [
    "amt%AMOUNT == 0"
   ]
  },
  {
   "cell_type": "code",
   "execution_count": 58,
   "metadata": {},
   "outputs": [
    {
     "data": {
      "text/plain": [
       "40"
      ]
     },
     "execution_count": 58,
     "metadata": {},
     "output_type": "execute_result"
    }
   ],
   "source": [
    "AMOUNT*((amt-1)//AMOUNT)"
   ]
  },
  {
   "cell_type": "code",
   "execution_count": 76,
   "metadata": {},
   "outputs": [],
   "source": [
    "from urllib.parse import parse_qs"
   ]
  },
  {
   "cell_type": "code",
   "execution_count": 100,
   "metadata": {},
   "outputs": [
    {
     "data": {
      "text/plain": [
       "{'a': ['testa'], 'c': ['testc'], 'callback': ['a=5^c=5']}"
      ]
     },
     "execution_count": 100,
     "metadata": {},
     "output_type": "execute_result"
    }
   ],
   "source": [
    "qs = 'a=testa&c=testc&callback=a=5^c=5'\n",
    "parse_qs(qs)"
   ]
  },
  {
   "cell_type": "code",
   "execution_count": 101,
   "metadata": {},
   "outputs": [],
   "source": [
    "a = 'wxyz'"
   ]
  },
  {
   "cell_type": "code",
   "execution_count": 102,
   "metadata": {},
   "outputs": [],
   "source": [
    "a += 'qq'"
   ]
  },
  {
   "cell_type": "code",
   "execution_count": 106,
   "metadata": {},
   "outputs": [
    {
     "data": {
      "text/plain": [
       "'a=testa&c=testc&callback=a=5^c=5^d=1000'"
      ]
     },
     "execution_count": 106,
     "metadata": {},
     "output_type": "execute_result"
    }
   ],
   "source": [
    "qs = 'a=testa&c=testc&callback=a=5^c=5^d=1000'\n",
    "qs"
   ]
  },
  {
   "cell_type": "code",
   "execution_count": 108,
   "metadata": {},
   "outputs": [
    {
     "data": {
      "text/plain": [
       "'a=testa&c=testc&callback=a=5&c=5&d=1000'"
      ]
     },
     "execution_count": 108,
     "metadata": {},
     "output_type": "execute_result"
    }
   ],
   "source": [
    "qs.replace('^', '&')"
   ]
  },
  {
   "cell_type": "code",
   "execution_count": 117,
   "metadata": {},
   "outputs": [
    {
     "data": {
      "text/plain": [
       "'&callback=a=testa^c=testc^callback=a=5^c=5^d=1000'"
      ]
     },
     "execution_count": 117,
     "metadata": {},
     "output_type": "execute_result"
    }
   ],
   "source": [
    "qs = 'a=testa&c=testc&callback=a=5^c=5^d=1000'\n",
    "aa = qs.replace('&', '^')\n",
    "s = f'&callback={qs.replace(\"&\", \"^\")}'\n",
    "s"
   ]
  },
  {
   "cell_type": "code",
   "execution_count": 114,
   "metadata": {},
   "outputs": [
    {
     "data": {
      "text/plain": [
       "'a=testa^c=testc^callback=a=5^c=5^d=1000'"
      ]
     },
     "execution_count": 114,
     "metadata": {},
     "output_type": "execute_result"
    }
   ],
   "source": [
    "qs.replace('&', '^')"
   ]
  },
  {
   "cell_type": "code",
   "execution_count": null,
   "metadata": {},
   "outputs": [],
   "source": []
  }
 ],
 "metadata": {
  "kernelspec": {
   "display_name": "Python 3",
   "language": "python",
   "name": "python3"
  },
  "language_info": {
   "codemirror_mode": {
    "name": "ipython",
    "version": 3
   },
   "file_extension": ".py",
   "mimetype": "text/x-python",
   "name": "python",
   "nbconvert_exporter": "python",
   "pygments_lexer": "ipython3",
   "version": "3.6.8"
  }
 },
 "nbformat": 4,
 "nbformat_minor": 2
}
